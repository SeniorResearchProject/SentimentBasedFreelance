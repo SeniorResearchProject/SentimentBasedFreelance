{
  "nbformat": 4,
  "nbformat_minor": 0,
  "metadata": {
    "colab": {
      "provenance": []
    },
    "kernelspec": {
      "name": "python3",
      "display_name": "Python 3"
    },
    "language_info": {
      "name": "python"
    }
  },
  "cells": [
    {
      "cell_type": "code",
      "execution_count": null,
      "metadata": {
        "id": "-Tee2Rrku4e8"
      },
      "outputs": [],
      "source": [
        "import matplotlib.pyplot as plt\n",
        "import os\n",
        "import re\n",
        "import shutil\n",
        "import string\n",
        "import tensorflow as tf\n",
        "import numpy as np\n",
        "import pandas as pd\n",
        "from tensorflow.keras import layers\n",
        "from tensorflow.keras import losses\n",
        "from tensorflow.keras import preprocessing\n",
        "from tensorflow.keras.layers.experimental.preprocessing import TextVectorization\n",
        "pd.options.mode.chained_assignment = None"
      ]
    },
    {
      "cell_type": "code",
      "source": [
        "from google.colab import drive\n",
        "drive.mount('/content/drive', force_remount=True)\n",
        "import pandas as pd\n",
        "\n",
        "# Update the path below based on where the file is located in your Google Drive\n",
        "file_path = '/content/drive/My Drive/Reviews.tsv'\n",
        "\n",
        "# Load the TSV file using the file_path variable\n",
        "df = pd.read_csv(file_path, delimiter='\\t')\n",
        "\n",
        "# Display the first few rows of the DataFrame\n",
        "print(df.head())\n"
      ],
      "metadata": {
        "colab": {
          "base_uri": "https://localhost:8080/"
        },
        "id": "iAdiSWKju-dT",
        "outputId": "dceb8d49-782b-4f73-887d-725b3f1e2b92"
      },
      "execution_count": null,
      "outputs": [
        {
          "output_type": "stream",
          "name": "stdout",
          "text": [
            "Mounted at /content/drive\n",
            "                                              Review  Liked\n",
            "0                           Wow... Loved this place.      1\n",
            "1                                 Crust is not good.      0\n",
            "2          Not tasty and the texture was just nasty.      0\n",
            "3  Stopped by during the late May bank holiday of...      1\n",
            "4  The selection on the menu was great and so wer...      1\n"
          ]
        }
      ]
    },
    {
      "cell_type": "code",
      "source": [
        "# Check if each row in the Sentiment column is a string\n",
        "string_rows = df['Liked'].apply(lambda x: isinstance(x, str))\n",
        "# Filter out rows where Sentiment is a string\n",
        "cleaned_data = df[~string_rows]\n",
        "df['Liked'] = pd.to_numeric(df['Liked'], errors='coerce')\n",
        "\n",
        "# Optional: Handle NaN values. Here's an example of dropping them\n",
        "df.dropna(subset=['Liked'], inplace=True)"
      ],
      "metadata": {
        "id": "AiloYEnfwfqi"
      },
      "execution_count": null,
      "outputs": []
    },
    {
      "cell_type": "code",
      "source": [
        "print(df['Liked'].unique())\n"
      ],
      "metadata": {
        "colab": {
          "base_uri": "https://localhost:8080/"
        },
        "id": "mc-k25jXwf-B",
        "outputId": "0274c50b-2b91-4c88-9703-88e02ea0a184"
      },
      "execution_count": null,
      "outputs": [
        {
          "output_type": "stream",
          "name": "stdout",
          "text": [
            "[1 0]\n"
          ]
        }
      ]
    },
    {
      "cell_type": "code",
      "source": [
        "# Applying the mapping to check manually\n",
        "test_mapping = df['Liked'].apply(lambda x: 'positive' if x ==1 else 'negative')\n",
        "print(test_mapping.value_counts())\n"
      ],
      "metadata": {
        "colab": {
          "base_uri": "https://localhost:8080/"
        },
        "id": "eyB_xldjxWo7",
        "outputId": "a52ae21b-69e1-42fd-8b27-3a89cf23af44"
      },
      "execution_count": null,
      "outputs": [
        {
          "output_type": "stream",
          "name": "stdout",
          "text": [
            "Liked\n",
            "positive    500\n",
            "negative    500\n",
            "Name: count, dtype: int64\n"
          ]
        }
      ]
    },
    {
      "cell_type": "code",
      "source": [
        "pip install nlpaug\n"
      ],
      "metadata": {
        "colab": {
          "base_uri": "https://localhost:8080/"
        },
        "id": "NXe55XTMxWul",
        "outputId": "228210ea-374c-4532-f041-4786dfec8cb9"
      },
      "execution_count": null,
      "outputs": [
        {
          "output_type": "stream",
          "name": "stdout",
          "text": [
            "Collecting nlpaug\n",
            "  Downloading nlpaug-1.1.11-py3-none-any.whl (410 kB)\n",
            "\u001b[2K     \u001b[90m━━━━━━━━━━━━━━━━━━━━━━━━━━━━━━━━━━━━━━━━\u001b[0m \u001b[32m410.5/410.5 kB\u001b[0m \u001b[31m2.4 MB/s\u001b[0m eta \u001b[36m0:00:00\u001b[0m\n",
            "\u001b[?25hRequirement already satisfied: numpy>=1.16.2 in /usr/local/lib/python3.10/dist-packages (from nlpaug) (1.25.2)\n",
            "Requirement already satisfied: pandas>=1.2.0 in /usr/local/lib/python3.10/dist-packages (from nlpaug) (2.0.3)\n",
            "Requirement already satisfied: requests>=2.22.0 in /usr/local/lib/python3.10/dist-packages (from nlpaug) (2.31.0)\n",
            "Requirement already satisfied: gdown>=4.0.0 in /usr/local/lib/python3.10/dist-packages (from nlpaug) (5.1.0)\n",
            "Requirement already satisfied: beautifulsoup4 in /usr/local/lib/python3.10/dist-packages (from gdown>=4.0.0->nlpaug) (4.12.3)\n",
            "Requirement already satisfied: filelock in /usr/local/lib/python3.10/dist-packages (from gdown>=4.0.0->nlpaug) (3.14.0)\n",
            "Requirement already satisfied: tqdm in /usr/local/lib/python3.10/dist-packages (from gdown>=4.0.0->nlpaug) (4.66.4)\n",
            "Requirement already satisfied: python-dateutil>=2.8.2 in /usr/local/lib/python3.10/dist-packages (from pandas>=1.2.0->nlpaug) (2.8.2)\n",
            "Requirement already satisfied: pytz>=2020.1 in /usr/local/lib/python3.10/dist-packages (from pandas>=1.2.0->nlpaug) (2023.4)\n",
            "Requirement already satisfied: tzdata>=2022.1 in /usr/local/lib/python3.10/dist-packages (from pandas>=1.2.0->nlpaug) (2024.1)\n",
            "Requirement already satisfied: charset-normalizer<4,>=2 in /usr/local/lib/python3.10/dist-packages (from requests>=2.22.0->nlpaug) (3.3.2)\n",
            "Requirement already satisfied: idna<4,>=2.5 in /usr/local/lib/python3.10/dist-packages (from requests>=2.22.0->nlpaug) (3.7)\n",
            "Requirement already satisfied: urllib3<3,>=1.21.1 in /usr/local/lib/python3.10/dist-packages (from requests>=2.22.0->nlpaug) (2.0.7)\n",
            "Requirement already satisfied: certifi>=2017.4.17 in /usr/local/lib/python3.10/dist-packages (from requests>=2.22.0->nlpaug) (2024.2.2)\n",
            "Requirement already satisfied: six>=1.5 in /usr/local/lib/python3.10/dist-packages (from python-dateutil>=2.8.2->pandas>=1.2.0->nlpaug) (1.16.0)\n",
            "Requirement already satisfied: soupsieve>1.2 in /usr/local/lib/python3.10/dist-packages (from beautifulsoup4->gdown>=4.0.0->nlpaug) (2.5)\n",
            "Requirement already satisfied: PySocks!=1.5.7,>=1.5.6 in /usr/local/lib/python3.10/dist-packages (from requests>=2.22.0->nlpaug) (1.7.1)\n",
            "Installing collected packages: nlpaug\n",
            "Successfully installed nlpaug-1.1.11\n"
          ]
        }
      ]
    },
    {
      "cell_type": "code",
      "source": [
        "import nlpaug.augmenter.word as naw\n",
        "import pandas as pd\n",
        "from sklearn.model_selection import train_test_split\n",
        "\n",
        "# Function to augment data\n",
        "def augment_text(data, augmenter, repetitions=1):\n",
        "    augmented_texts = []\n",
        "    for text in data:\n",
        "        # Ensure text is a string\n",
        "        text = str(text)\n",
        "        for _ in range(repetitions):\n",
        "            augmented = augmenter.augment(text)\n",
        "            augmented_texts.append(str(augmented))  # Ensure the augmented text is a string\n",
        "    return augmented_texts\n",
        "\n",
        "# Assuming df is already loaded and contains the columns 'Review' and 'Liked'\n",
        "# Split your data\n",
        "X_train, X_test, y_train, y_test = train_test_split(df['Review'], df['Liked'], test_size=0.2, random_state=42)\n",
        "\n",
        "# Initialize augmenter - here using synonym replacement\n",
        "augmenter = naw.SynonymAug(aug_src='wordnet')\n",
        "\n",
        "# Augment data - now tripling the data\n",
        "augmented_texts = augment_text(X_train, augmenter, repetitions=3)  # Tripling data with augmentation\n",
        "\n",
        "# Reset index for y_train to properly repeat it\n",
        "y_train_reset = y_train.reset_index(drop=True)\n",
        "\n",
        "# Extend the original training data with augmented data\n",
        "augmented_data = pd.DataFrame({'Review': augmented_texts, 'Liked': y_train_reset.repeat(3).values})  # Repeat y_train three times\n",
        "X_train_augmented = pd.concat([X_train, augmented_data['Review']]).reset_index(drop=True)\n",
        "y_train_augmented = pd.concat([y_train, augmented_data['Liked']]).reset_index(drop=True)\n",
        "\n",
        "# Verification that all entries are strings\n",
        "if any(not isinstance(x, str) for x in X_train_augmented):\n",
        "    print(\"Non-string elements detected in augmented data.\")\n",
        "\n",
        "assert all(isinstance(x, str) for x in X_train_augmented), \"All elements in X_train_augmented must be strings.\"\n",
        "\n",
        "# Now you have a significantly augmented dataset\n",
        "print(\"Original training data size:\", len(X_train))\n",
        "print(\"Augmented training data size:\", len(X_train_augmented))\n"
      ],
      "metadata": {
        "colab": {
          "base_uri": "https://localhost:8080/"
        },
        "id": "GeuGsDdcxiDz",
        "outputId": "ae72acb5-3f3d-4efd-9f9c-51f79f7c095c"
      },
      "execution_count": null,
      "outputs": [
        {
          "output_type": "stream",
          "name": "stderr",
          "text": [
            "[nltk_data] Downloading package wordnet to /root/nltk_data...\n",
            "[nltk_data] Downloading package omw-1.4 to /root/nltk_data...\n",
            "[nltk_data] Downloading package averaged_perceptron_tagger to\n",
            "[nltk_data]     /root/nltk_data...\n",
            "[nltk_data]   Unzipping taggers/averaged_perceptron_tagger.zip.\n"
          ]
        },
        {
          "output_type": "stream",
          "name": "stdout",
          "text": [
            "Original training data size: 800\n",
            "Augmented training data size: 3200\n"
          ]
        }
      ]
    },
    {
      "cell_type": "code",
      "source": [
        "import nltk\n",
        "import re\n",
        "import string\n",
        "from sklearn.model_selection import train_test_split\n",
        "from sklearn.feature_extraction.text import TfidfVectorizer\n",
        "from sklearn.naive_bayes import MultinomialNB\n",
        "from sklearn.svm import SVC\n",
        "from sklearn.metrics import classification_report, accuracy_score\n",
        "import nlpaug.augmenter.word as naw\n",
        "import pandas as pd\n",
        "\n",
        "# Download NLTK resources\n",
        "nltk.download('punkt')\n",
        "nltk.download('stopwords')\n",
        "\n",
        "# Function to preprocess text\n",
        "def preprocess_text(text):\n",
        "    # Convert to lowercase\n",
        "    text = text.lower()\n",
        "    # Replace \"n't\" with \"not\" to handle cases like \"isn't\"\n",
        "    text = re.sub(r\"n't\", \" not\", text)\n",
        "    # Handle negations by appending \"_not\" to the following word\n",
        "    text = re.sub(r\"\\b(not)\\s+(\\w+)\\b\", r\"\\1_\\2\", text)\n",
        "    # Remove punctuation\n",
        "    text = text.translate(str.maketrans('', '', string.punctuation))\n",
        "    # Remove extra whitespaces\n",
        "    text = re.sub('\\s+', ' ', text).strip()\n",
        "    return text\n",
        "\n",
        "# Function to augment data\n",
        "def augment_text(data, augmenter, repetitions=1):\n",
        "    augmented_texts = []\n",
        "    for text in data:\n",
        "        # Ensure text is a string\n",
        "        text = str(text)\n",
        "        for _ in range(repetitions):\n",
        "            augmented = augmenter.augment(text)\n",
        "            augmented_texts.append(str(augmented))  # Ensure the augmented text is a string\n",
        "    return augmented_texts\n",
        "\n",
        "# Load dataset\n",
        "# Replace 'Review' with the appropriate column name containing the text data\n",
        "df['Review'] = df['Review'].apply(preprocess_text)\n",
        "\n",
        "# Split dataset into training and testing sets\n",
        "X_train, X_test, y_train, y_test = train_test_split(df['Review'], df['Liked'], test_size=0.2, random_state=42)\n",
        "\n",
        "# Initialize augmenter - here using synonym replacement\n",
        "augmenter = naw.SynonymAug(aug_src='wordnet')\n",
        "\n",
        "# Augment data - now tripling the data\n",
        "augmented_texts = augment_text(X_train, augmenter, repetitions=3)  # Tripling data with augmentation\n",
        "\n",
        "# Reset index for y_train to properly repeat it\n",
        "y_train_reset = y_train.reset_index(drop=True)\n",
        "\n",
        "# Extend the original training data with augmented data\n",
        "augmented_data = pd.DataFrame({'Review': augmented_texts, 'Liked': y_train_reset.repeat(3).values})  # Repeat y_train three times\n",
        "X_train_augmented = pd.concat([X_train, augmented_data['Review']]).reset_index(drop=True)\n",
        "y_train_augmented = pd.concat([y_train, augmented_data['Liked']]).reset_index(drop=True)\n",
        "\n",
        "# Verification that all entries are strings\n",
        "if any(not isinstance(x, str) for x in X_train_augmented):\n",
        "    print(\"Non-string elements detected in augmented data.\")\n",
        "\n",
        "assert all(isinstance(x, str) for x in X_train_augmented), \"All elements in X_train_augmented must be strings.\"\n",
        "\n",
        "# Vectorize text data using TF-IDF\n",
        "vectorizer = TfidfVectorizer(stop_words='english')\n",
        "X_train_vectorized = vectorizer.fit_transform(X_train_augmented)\n",
        "X_test_vectorized = vectorizer.transform(X_test)\n"
      ],
      "metadata": {
        "colab": {
          "base_uri": "https://localhost:8080/"
        },
        "id": "3dsthYAaxncd",
        "outputId": "69381d50-3bd8-4fce-f3c0-5a93df720bfb"
      },
      "execution_count": null,
      "outputs": [
        {
          "output_type": "stream",
          "name": "stderr",
          "text": [
            "[nltk_data] Downloading package punkt to /root/nltk_data...\n",
            "[nltk_data]   Unzipping tokenizers/punkt.zip.\n",
            "[nltk_data] Downloading package stopwords to /root/nltk_data...\n",
            "[nltk_data]   Unzipping corpora/stopwords.zip.\n"
          ]
        }
      ]
    },
    {
      "cell_type": "code",
      "source": [
        "print(\"Dimensions of X_train_vectorized:\", X_train_vectorized.shape)\n",
        "print(\"Dimensions of y_train:\", len(y_train))"
      ],
      "metadata": {
        "colab": {
          "base_uri": "https://localhost:8080/"
        },
        "id": "wC5lfOdQw-9E",
        "outputId": "5bef67b5-6e6e-4783-d49d-d50934ac3e00"
      },
      "execution_count": null,
      "outputs": [
        {
          "output_type": "stream",
          "name": "stdout",
          "text": [
            "Dimensions of X_train_vectorized: (3200, 3448)\n",
            "Dimensions of y_train: 800\n"
          ]
        }
      ]
    },
    {
      "cell_type": "code",
      "source": [
        "from sklearn.model_selection import StratifiedKFold\n",
        "from sklearn.metrics import accuracy_score, f1_score, recall_score\n",
        "from sklearn.feature_extraction.text import TfidfVectorizer\n",
        "from sklearn.naive_bayes import MultinomialNB\n",
        "from sklearn.svm import SVC\n",
        "from sklearn.ensemble import StackingClassifier\n",
        "from sklearn.linear_model import LogisticRegression\n",
        "from imblearn.over_sampling import SMOTE\n",
        "from imblearn.pipeline import make_pipeline as make_pipeline_imblearn\n",
        "from xgboost import XGBClassifier\n",
        "\n",
        "class AdvancedStackingSentiment:\n",
        "    def __init__(self):\n",
        "        # Define text preprocessing pipeline\n",
        "        self.vectorizer = TfidfVectorizer(stop_words='english')\n",
        "\n",
        "        # Define base models with their respective pipelines without vectorizers\n",
        "        base_models = [\n",
        "            ('naive_bayes', make_pipeline_imblearn(\n",
        "                SMOTE(),\n",
        "                MultinomialNB(alpha=0.1)\n",
        "            )),\n",
        "            ('svm', make_pipeline_imblearn(\n",
        "                SMOTE(),\n",
        "                SVC(probability=True, kernel='linear', C=1)\n",
        "            )),\n",
        "            ('log_reg', make_pipeline_imblearn(\n",
        "                SMOTE(),\n",
        "                LogisticRegression(C=1)\n",
        "            )),\n",
        "            ('xgboost', make_pipeline_imblearn(\n",
        "                SMOTE(),\n",
        "                XGBClassifier(use_label_encoder=False, eval_metric='mlogloss')\n",
        "            ))\n",
        "        ]\n",
        "\n",
        "        # Define the final estimator\n",
        "        final_estimator = LogisticRegression()\n",
        "\n",
        "        # Define the stacking classifier with cross-validation\n",
        "        self.pipeline = StackingClassifier(\n",
        "            estimators=base_models,\n",
        "            final_estimator=final_estimator\n",
        "        )\n",
        "\n",
        "    def fit(self, X_train, y_train):\n",
        "        # Transform the training data using the vectorizer\n",
        "        X_train_vectorized = self.vectorizer.fit_transform(X_train)\n",
        "        self.pipeline.fit(X_train_vectorized, y_train)\n",
        "\n",
        "    def evaluate(self, X, y, cv=5):\n",
        "        # Transform the input data using the vectorizer\n",
        "        X_vectorized = self.vectorizer.transform(X)\n",
        "\n",
        "        # Perform cross-validation\n",
        "        skf = StratifiedKFold(n_splits=cv, shuffle=True, random_state=42)\n",
        "        accuracies = []\n",
        "        f1_scores = []\n",
        "        recalls = []\n",
        "        for train_index, test_index in skf.split(X_vectorized, y):\n",
        "            X_train_fold, X_test_fold = X_vectorized[train_index], X_vectorized[test_index]\n",
        "            y_train_fold, y_test_fold = y[train_index], y[test_index]\n",
        "\n",
        "            self.pipeline.fit(X_train_fold, y_train_fold)\n",
        "            y_pred_fold = self.pipeline.predict(X_test_fold)\n",
        "\n",
        "            accuracies.append(accuracy_score(y_test_fold, y_pred_fold))\n",
        "            f1_scores.append(f1_score(y_test_fold, y_pred_fold))\n",
        "            recalls.append(recall_score(y_test_fold, y_pred_fold))\n",
        "\n",
        "        return accuracies, f1_scores, recalls\n",
        "\n",
        "    def predict_text(self, text):\n",
        "        # Transform the input text using the vectorizer\n",
        "        text_vectorized = self.vectorizer.transform([text])\n",
        "        return self.pipeline.predict(text_vectorized)\n",
        "\n",
        "# Example usage\n",
        "if __name__ == \"__main__\":\n",
        "    # Initialize the model\n",
        "    stacking_sentiment = AdvancedStackingSentiment()\n",
        "\n",
        "    # Fit the model\n",
        "    stacking_sentiment.fit(X_train_augmented, y_train_augmented)\n",
        "\n",
        "    # Evaluate the model using cross-validation\n",
        "    accuracies, f1_scores, recalls = stacking_sentiment.evaluate(X_train_augmented, y_train_augmented)\n",
        "\n",
        "    # Print average metrics\n",
        "    print(f\"Average Accuracy: {sum(accuracies) / len(accuracies):.2f}\")\n",
        "    print(f\"Average F1 Score: {sum(f1_scores) / len(f1_scores):.2f}\")\n",
        "    print(f\"Average Recall: {sum(recalls) / len(recalls):.2f}\")\n",
        "\n",
        "    # Predict sentiment for a new text\n",
        "    new_text = \"It was good\"\n",
        "    prediction = stacking_sentiment.predict_text(new_text)\n",
        "    print(f\"Sentiment prediction for the new text: {prediction}\")\n"
      ],
      "metadata": {
        "id": "1hEJaSLGxnzL",
        "colab": {
          "base_uri": "https://localhost:8080/"
        },
        "outputId": "7dd7f0ed-4def-42a9-ffe4-828e68c25e3c"
      },
      "execution_count": null,
      "outputs": [
        {
          "output_type": "stream",
          "name": "stdout",
          "text": [
            "Average Accuracy: 0.94\n",
            "Average F1 Score: 0.93\n",
            "Average Recall: 0.92\n",
            "Sentiment prediction for the new text: [1]\n"
          ]
        }
      ]
    },
    {
      "cell_type": "code",
      "source": [
        "pip install joblib\n"
      ],
      "metadata": {
        "colab": {
          "base_uri": "https://localhost:8080/"
        },
        "id": "AeheOWIhNBjy",
        "outputId": "b3770d7f-3b2e-459b-da81-e4bd701ab797"
      },
      "execution_count": null,
      "outputs": [
        {
          "output_type": "stream",
          "name": "stdout",
          "text": [
            "Requirement already satisfied: joblib in /usr/local/lib/python3.10/dist-packages (1.4.2)\n"
          ]
        }
      ]
    },
    {
      "cell_type": "code",
      "source": [
        "from sklearn.model_selection import StratifiedKFold\n",
        "from sklearn.metrics import accuracy_score, f1_score, recall_score\n",
        "from sklearn.feature_extraction.text import TfidfVectorizer\n",
        "from sklearn.naive_bayes import MultinomialNB\n",
        "from sklearn.svm import SVC\n",
        "from sklearn.ensemble import StackingClassifier\n",
        "from sklearn.linear_model import LogisticRegression\n",
        "from imblearn.over_sampling import SMOTE\n",
        "from imblearn.pipeline import make_pipeline as make_pipeline_imblearn\n",
        "from xgboost import XGBClassifier\n",
        "import joblib\n",
        "import os\n",
        "\n",
        "class AdvancedStackingSentiment:\n",
        "    def __init__(self):\n",
        "        # Define text preprocessing pipeline\n",
        "        self.vectorizer = TfidfVectorizer(stop_words='english')\n",
        "\n",
        "        # Define base models with their respective pipelines without vectorizers\n",
        "        base_models = [\n",
        "            ('naive_bayes', make_pipeline_imblearn(\n",
        "                SMOTE(),\n",
        "                MultinomialNB(alpha=0.1)\n",
        "            )),\n",
        "            ('svm', make_pipeline_imblearn(\n",
        "                SMOTE(),\n",
        "                SVC(probability=True, kernel='linear', C=1)\n",
        "            )),\n",
        "            ('log_reg', make_pipeline_imblearn(\n",
        "                SMOTE(),\n",
        "                LogisticRegression(C=1)\n",
        "            )),\n",
        "            ('xgboost', make_pipeline_imblearn(\n",
        "                SMOTE(),\n",
        "                XGBClassifier(use_label_encoder=False, eval_metric='mlogloss')\n",
        "            ))\n",
        "        ]\n",
        "\n",
        "        # Define the final estimator\n",
        "        final_estimator = LogisticRegression()\n",
        "\n",
        "        # Define the stacking classifier with cross-validation\n",
        "        self.pipeline = StackingClassifier(\n",
        "            estimators=base_models,\n",
        "            final_estimator=final_estimator\n",
        "        )\n",
        "\n",
        "    def fit(self, X_train, y_train):\n",
        "        # Transform the training data using the vectorizer\n",
        "        X_train_vectorized = self.vectorizer.fit_transform(X_train)\n",
        "        self.pipeline.fit(X_train_vectorized, y_train)\n",
        "\n",
        "    def evaluate(self, X, y, cv=5):\n",
        "        # Transform the input data using the vectorizer\n",
        "        X_vectorized = self.vectorizer.transform(X)\n",
        "\n",
        "        # Perform cross-validation\n",
        "        skf = StratifiedKFold(n_splits=cv, shuffle=True, random_state=42)\n",
        "        accuracies = []\n",
        "        f1_scores = []\n",
        "        recalls = []\n",
        "        for train_index, test_index in skf.split(X_vectorized, y):\n",
        "            X_train_fold, X_test_fold = X_vectorized[train_index], X_vectorized[test_index]\n",
        "            y_train_fold, y_test_fold = y[train_index], y[test_index]\n",
        "\n",
        "            self.pipeline.fit(X_train_fold, y_train_fold)\n",
        "            y_pred_fold = self.pipeline.predict(X_test_fold)\n",
        "\n",
        "            accuracies.append(accuracy_score(y_test_fold, y_pred_fold))\n",
        "            f1_scores.append(f1_score(y_test_fold, y_pred_fold))\n",
        "            recalls.append(recall_score(y_test_fold, y_pred_fold))\n",
        "\n",
        "        return accuracies, f1_scores, recalls\n",
        "\n",
        "    def predict_text(self, text):\n",
        "        # Transform the input text using the vectorizer\n",
        "        text_preprocessed = preprocess_text(text)\n",
        "    # Transform the preprocessed text using the vectorizer\n",
        "        text_vectorized = self.vectorizer.transform([text_preprocessed])\n",
        "    # Predict the sentiment\n",
        "        prediction = self.pipeline.predict(text_vectorized)\n",
        "        return prediction\n",
        "\n",
        "    def predict_proba_text(self, text):\n",
        "        # Preprocess and transform the input text using the vectorizer\n",
        "        text_preprocessed = preprocess_text(text)\n",
        "        text_vectorized = self.vectorizer.transform([text_preprocessed])\n",
        "        # Predict the probability of each class\n",
        "        prediction_proba = self.pipeline.predict_proba(text_vectorized)\n",
        "        return prediction_proba\n",
        "\n",
        "    def save_model(self, model_path):\n",
        "        # Save the pipeline and vectorizer\n",
        "        joblib.dump((self.pipeline, self.vectorizer), model_path)\n",
        "\n",
        "    def load_model(self, model_path):\n",
        "        # Load the pipeline and vectorizer\n",
        "        self.pipeline, self.vectorizer = joblib.load(model_path)\n",
        "\n",
        "# Example usage\n",
        "if __name__ == \"__main__\":\n",
        "    # Initialize the model\n",
        "    stacking_sentiment = AdvancedStackingSentiment()\n",
        "\n",
        "    # Fit the model\n",
        "    stacking_sentiment.fit(X_train_augmented, y_train_augmented)\n",
        "\n",
        "    # Evaluate the model using cross-validation\n",
        "    accuracies, f1_scores, recalls = stacking_sentiment.evaluate(X_train_augmented, y_train_augmented)\n",
        "\n",
        "    # Print average metrics\n",
        "    print(f\"Average Accuracy: {sum(accuracies) / len(accuracies):.2f}\")\n",
        "    print(f\"Average F1 Score: {sum(f1_scores) / len(f1_scores):.2f}\")\n",
        "    print(f\"Average Recall: {sum(recalls) / len(recalls):.2f}\")\n",
        "\n",
        "    model_path = 'stacking_sentiment_model.joblib'\n",
        "    stacking_sentiment.save_model(model_path)\n",
        "    print(f\"Model saved to {model_path}\")\n",
        "\n",
        "    # Load the model from the file\n",
        "    loaded_model = AdvancedStackingSentiment()\n",
        "    loaded_model.load_model(model_path)\n",
        "    print(f\"Model loaded from {model_path}\")\n",
        "\n",
        "    # Predict sentiment for a new text\n",
        "    new_text = \"It was good\"\n",
        "    prediction = loaded_model.predict_text(new_text)\n",
        "    print(f\"Sentiment prediction for the new text: {prediction}\")\n",
        "    prediction_proba = loaded_model.predict_proba_text(new_text)\n",
        "    print(f\"Sentiment prediction probability for the new text: {prediction_proba}\")\n"
      ],
      "metadata": {
        "colab": {
          "base_uri": "https://localhost:8080/"
        },
        "id": "_WheOgwa2_Qk",
        "outputId": "891dae5e-db65-4874-f226-f80b7f01394b"
      },
      "execution_count": null,
      "outputs": [
        {
          "output_type": "stream",
          "name": "stdout",
          "text": [
            "Average Accuracy: 0.95\n",
            "Average F1 Score: 0.95\n",
            "Average Recall: 0.95\n",
            "Model saved to stacking_sentiment_model.joblib\n",
            "Model loaded from stacking_sentiment_model.joblib\n",
            "Sentiment prediction for the new text: [1]\n",
            "Sentiment prediction probability for the new text: [[0.03265007 0.96734993]]\n"
          ]
        }
      ]
    },
    {
      "cell_type": "code",
      "source": [],
      "metadata": {
        "id": "1atRA8hK1V8S"
      },
      "execution_count": null,
      "outputs": []
    },
    {
      "cell_type": "code",
      "source": [
        "new_text = \"you did all of it but make some changes\"\n",
        "prediction = stacking_sentiment.predict_text(new_text)\n",
        "print(f\"Sentiment prediction for the new text: {prediction}\")"
      ],
      "metadata": {
        "colab": {
          "base_uri": "https://localhost:8080/"
        },
        "id": "or08GFoO0zD6",
        "outputId": "8643563b-95ac-4fe0-db1d-f4693cf51410"
      },
      "execution_count": null,
      "outputs": [
        {
          "output_type": "stream",
          "name": "stdout",
          "text": [
            "Sentiment prediction for the new text: [0]\n"
          ]
        }
      ]
    },
    {
      "cell_type": "code",
      "source": [
        "import numpy as np\n",
        "import matplotlib.pyplot as plt\n",
        "from sklearn.model_selection import learning_curve\n",
        "\n",
        "def plot_learning_curve(estimator, X, y, train_sizes=np.linspace(0.1, 1.0, 5), cv=5):\n",
        "    \"\"\"\n",
        "    Generate a simple plot of the learning curve.\n",
        "    \"\"\"\n",
        "    train_sizes, train_scores, test_scores = learning_curve(\n",
        "        estimator, X, y, train_sizes=train_sizes, cv=cv, scoring='accuracy', n_jobs=-1)\n",
        "\n",
        "    train_scores_mean = np.mean(train_scores, axis=1)\n",
        "    train_scores_std = np.std(train_scores, axis=1)\n",
        "    test_scores_mean = np.mean(test_scores, axis=1)\n",
        "    test_scores_std = np.std(test_scores, axis=1)\n",
        "\n",
        "    plt.figure(figsize=(10, 6))\n",
        "    plt.title(\"Learning Curve\")\n",
        "    plt.xlabel(\"Training examples\")\n",
        "    plt.ylabel(\"Score\")\n",
        "    plt.grid()\n",
        "\n",
        "    plt.fill_between(train_sizes, train_scores_mean - train_scores_std,\n",
        "                     train_scores_mean + train_scores_std, alpha=0.1, color=\"r\")\n",
        "    plt.fill_between(train_sizes, test_scores_mean - test_scores_std,\n",
        "                     test_scores_mean + test_scores_std, alpha=0.1, color=\"g\")\n",
        "\n",
        "    plt.plot(train_sizes, train_scores_mean, 'o-', color=\"r\", label=\"Training score\")\n",
        "    plt.plot(train_sizes, test_scores_mean, 'o-', color=\"g\", label=\"Cross-validation score\")\n",
        "\n",
        "    plt.legend(loc=\"best\")\n",
        "    plt.show()\n",
        "\n",
        "# Example usage\n",
        "plot_learning_curve(stacking_sentiment.pipeline, X_train_vectorized, y_train_augmented)\n"
      ],
      "metadata": {
        "colab": {
          "base_uri": "https://localhost:8080/",
          "height": 619
        },
        "id": "WmbI-kxz6Gya",
        "outputId": "f797505c-eff1-4274-aaa5-22acfbe57b58"
      },
      "execution_count": null,
      "outputs": [
        {
          "output_type": "stream",
          "name": "stderr",
          "text": [
            "/usr/local/lib/python3.10/dist-packages/joblib/externals/loky/backend/fork_exec.py:38: RuntimeWarning: os.fork() was called. os.fork() is incompatible with multithreaded code, and JAX is multithreaded, so this will likely lead to a deadlock.\n",
            "  pid = os.fork()\n"
          ]
        },
        {
          "output_type": "display_data",
          "data": {
            "text/plain": [
              "<Figure size 1000x600 with 1 Axes>"
            ],
            "image/png": "[encoded data removed]"
          },
          "metadata": {}
        }
      ]
    }
  ]
}